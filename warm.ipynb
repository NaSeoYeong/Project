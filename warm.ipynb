{
 "cells": [
  {
   "cell_type": "code",
   "execution_count": 1,
   "metadata": {},
   "outputs": [],
   "source": [
    "import pandas as pd\n",
    "import numpy as np\n",
    "\n",
    "# 데이터 정렬\n",
    "df = pd.read_csv(\"./data/405957090_5천만건(hum,voc포함).csv\")\n",
    "df[\"updated\"] = pd.to_datetime(df[\"updated\"])\n",
    "df = df.sort_values(\"updated\")\n",
    "\n",
    "# -1이 있는 행을 삭제\n",
    "df = df.replace(-1, np.nan)  # -1을 NaN으로 변경\n",
    "df = df.dropna()  # NaN이 있는 행 삭제\n",
    "\n",
    "# 온도가 1500 이상 4500 이하인 데이터만 선택\n",
    "df = df[(df['temperature'] >= 1500) & (df['temperature'] <= 4500)]\n",
    "\n",
    "# 날짜 정상 데이터 선택\n",
    "df = df[(df['days'] > 0) & (df['days'] <= 1800)]\n",
    "\n",
    "# 성별 정상 데이터 선택\n",
    "df = df[df[\"sex\"]!=-1]\n",
    "\n",
    "# 4만 이내, 선형\n",
    "d1 = [2179,1766,2220,1970,1702,2411,357,2552,1946,2273,1416]\n",
    "df = df[df[\"device_id\"].isin(d1)]\n",
    "\n",
    "\n",
    "# 고유한 디바이스 아이디들을 가져오기\n",
    "unique_device_ids = df['device_id'].unique()\n",
    "\n",
    "# 결과를 저장할 빈 데이터프레임 생성\n",
    "sec_df = pd.DataFrame()\n",
    "\n",
    "# 각 디바이스 아이디에 대해 데이터프레임 생성 및 병합\n",
    "for target_device_id in unique_device_ids:\n",
    "\n",
    "    one_df = df[df['device_id'] == target_device_id]\n",
    "\n",
    "    # 선택한 device_id의 시작일과 마지막일 구하기\n",
    "    start_date = one_df['updated'].min()\n",
    "    end_date = one_df['updated'].max()\n",
    "\n",
    "    # 해당 기간 동안의 모든 초를 가진 데이터프레임 생성\n",
    "    all_seconds_df = pd.DataFrame({'updated': pd.date_range(start=start_date, end=end_date, freq='S')})\n",
    "\n",
    "    # 기존 데이터프레임과 합치기\n",
    "    result_df = pd.merge(all_seconds_df, one_df, on='updated', how='left')\n",
    "\n",
    "    # _id 열은 불필요하므로 제거\n",
    "    result_df = result_df.drop('_id', axis=1)\n",
    "\n",
    "    # null로 초기화 (temperature, humidity, voc만 null로, 나머지는 ffill로 채우기)\n",
    "    result_df[['updated','device_id','days','sex']] = result_df[['updated','device_id','days','sex']].ffill()\n",
    "\n",
    "    # 최종 결과에 현재 결과 추가\n",
    "    sec_df = pd.concat([sec_df, result_df])\n",
    "\n",
    "# 데이터 자료형과 인덱스 정리\n",
    "sec_df.reset_index(drop=True, inplace=True)\n",
    "sec_df['device_id'] = sec_df['device_id'].astype('int')\n",
    "sec_df['days'] = sec_df['days'].astype('int')\n",
    "sec_df['sex'] = sec_df['sex'].astype('int')"
   ]
  },
  {
   "cell_type": "code",
   "execution_count": 2,
   "metadata": {},
   "outputs": [],
   "source": [
    "# 가장 어린/많은 아이의 days값 추출\n",
    "days_min_value = sec_df['days'].unique().min()\n",
    "days_max_value = sec_df['days'].unique().max()\n",
    "\n",
    "# 가장 어린/많은 아이의 디바이스아이디 추출\n",
    "d_lo_id = sec_df[sec_df['days']==days_min_value]['device_id'].head(1).iloc[0]\n",
    "d_up_id = sec_df[sec_df['days']==days_max_value]['device_id'].head(1).iloc[0]\n",
    "\n",
    "# 가장 어린/많은 아이 df 생성\n",
    "df_lo = sec_df[sec_df['device_id']==d_lo_id]\n",
    "df_up = sec_df[sec_df['device_id']==d_up_id]\n",
    "\n",
    "# # 두 데이터에서 겹치는 날짜만을 추출\n",
    "# date_list = np.intersect1d(df_lo['updated'].dt.date, df_up['updated'].dt.date)\n",
    "\n",
    "# df_lo = df_lo[df_lo['updated'].dt.date.isin(date_list)]\n",
    "# df_up = df_up[df_up['updated'].dt.date.isin(date_list)]\n",
    "\n",
    "# 인덱스 재정의\n",
    "df_lo.reset_index(drop=True, inplace=True)\n",
    "df_up.reset_index(drop=True, inplace=True)"
   ]
  },
  {
   "cell_type": "code",
   "execution_count": null,
   "metadata": {},
   "outputs": [],
   "source": [
    "import matplotlib.pyplot as plt\n",
    "\n",
    "# 시작일자, 마감일자 지정\n",
    "start_day = min(df_lo['updated'].min(), df_up['updated'].min())\n",
    "end_day = max(df_lo['updated'].max(), df_up['updated'].max())\n",
    "\n",
    "# 날짜 지정\n",
    "date_list = pd.date_range(start=start_day, end=end_day, freq='D')\n",
    "\n",
    "for day in date_list:\n",
    "\n",
    "    # 날짜별 데이터프레임 재정의\n",
    "    one_df_lo = df_lo[df_lo['updated'].dt.date == day.date()]\n",
    "    one_df_up = df_up[df_up['updated'].dt.date == day.date()]\n",
    "\n",
    "    # 두 그래프를 동시에 시각화\n",
    "    fig, axes = plt.subplots(1,2, figsize=(20,5))\n",
    "    axes[0].plot(one_df_lo['updated'], one_df_lo['temperature'])\n",
    "    axes[1].plot(one_df_up['updated'], one_df_up['temperature'])\n",
    "\n",
    "    axes[0].set_title(f'device_id 2220(Days 3~15) - {day.date()}')\n",
    "    axes[1].set_title(f'device_id 1416(Days 1520~1604 - {day.date()})')\n",
    "\n",
    "    # # 축을 24시간으로 고정함\n",
    "    # for ax in axes:\n",
    "    #     hours = pd.date_range('00:00', '23:00', freq='H')\n",
    "    #     ax.set_xlim((hours[0], hours[-1]))\n",
    "    #     # ax.set_xticklabels([dt.strftime('%H:%M') for dt in hours], rotation=45, ha='right')\n",
    "\n",
    "    plt.show()\n"
   ]
  },
  {
   "cell_type": "code",
   "execution_count": 16,
   "metadata": {},
   "outputs": [
    {
     "data": {
      "text/plain": [
       "datetime.time(0, 0)"
      ]
     },
     "execution_count": 16,
     "metadata": {},
     "output_type": "execute_result"
    }
   ],
   "source": [
    "hours = pd.date_range('00:00', '23:00', freq='H')[0].time()\n",
    "hours"
   ]
  }
 ],
 "metadata": {
  "kernelspec": {
   "display_name": "monit",
   "language": "python",
   "name": "python3"
  },
  "language_info": {
   "codemirror_mode": {
    "name": "ipython",
    "version": 3
   },
   "file_extension": ".py",
   "mimetype": "text/x-python",
   "name": "python",
   "nbconvert_exporter": "python",
   "pygments_lexer": "ipython3",
   "version": "3.10.13"
  }
 },
 "nbformat": 4,
 "nbformat_minor": 2
}
